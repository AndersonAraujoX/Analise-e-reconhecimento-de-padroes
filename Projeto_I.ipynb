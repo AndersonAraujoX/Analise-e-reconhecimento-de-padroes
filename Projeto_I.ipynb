{
  "nbformat": 4,
  "nbformat_minor": 0,
  "metadata": {
    "colab": {
      "provenance": [],
      "include_colab_link": true
    },
    "kernelspec": {
      "display_name": "Python 3",
      "language": "python",
      "name": "python3"
    },
    "language_info": {
      "codemirror_mode": {
        "name": "ipython",
        "version": 3
      },
      "file_extension": ".py",
      "mimetype": "text/x-python",
      "name": "python",
      "nbconvert_exporter": "python",
      "pygments_lexer": "ipython3",
      "version": "3.8.5"
    }
  },
  "cells": [
    {
      "cell_type": "markdown",
      "metadata": {
        "id": "view-in-github",
        "colab_type": "text"
      },
      "source": [
        "<a href=\"https://colab.research.google.com/github/AndersonAraujoX/analise-e-reconhecimento-de-padroes/blob/main/Projeto_I.ipynb\" target=\"_parent\"><img src=\"https://colab.research.google.com/assets/colab-badge.svg\" alt=\"Open In Colab\"/></a>"
      ]
    },
    {
      "cell_type": "code",
      "metadata": {
        "id": "dCvgbsNatOsE"
      },
      "source": [
        "import matplotlib.pyplot as plt\n",
        "import matplotlib.figure as pfig\n",
        "import random as random\n",
        "import math\n",
        "import scipy.stats as stats\n",
        "import numpy as np\n",
        "import statistics as sta\n",
        "import scipy.stats as stats\n",
        "from matplotlib.collections import LineCollection\n"
      ],
      "execution_count": null,
      "outputs": []
    },
    {
      "cell_type": "code",
      "metadata": {
        "id": "WIyYHuHa2XIi"
      },
      "source": [
        "h=int(1)\n",
        "X, Y = [], []\n",
        "fig, axs = plt.subplots(4, 10, figsize=(30,10))\n",
        "for t in range(1,11):#verificar arquivo 1 á 10.\n",
        "  text='Projeto/Projeto_1/dados_ '+ str(t)#editei o dado para .txt,.\n",
        "  for line in open(text, \"r\"):#coletando os dados no .txt\n",
        "    values = [s for s in line.split()]#colocando a informação em um vetor\n",
        "    X.append(h)\n",
        "    h+=1\n",
        "    Y.append(float(values[1]))#colocando o valor.\n",
        "\n",
        "  print('dados',t)\n",
        "  print(min(Y),max(Y),sta.stdev(Y),sta.variance(Y))\n",
        "  axs[2,t-1].hist(Y)\n",
        "  axs[0,t-1].plot(X,Y,'o')\n",
        "  h=int(1)\n",
        "  X, Y = [], []\n",
        "for t in range(11,21):#verificaro arquivo 11 á 20.\n",
        "  text='Projeto/Projeto_1/dados_ '+ str(t)\n",
        "  for line in open(text, \"r\"):\n",
        "    values = [s for s in line.split()]\n",
        "    X.append(h)\n",
        "    h+=1\n",
        "    Y.append(float(values[1]))\n",
        "  #plt.hist(Y)\n",
        "  print('dados',t)\n",
        "  print(min(Y),max(Y),sta.stdev(Y),sta.variance(Y))\n",
        "\n",
        "  axs[3,t-11].hist(Y)\n",
        "  axs[1,t-11].plot(X,Y,'o')\n",
        "  h=int(1)\n",
        "  X, Y = [], []\n",
        "plt.show()"
      ],
      "execution_count": null,
      "outputs": []
    },
    {
      "cell_type": "code",
      "metadata": {
        "id": "KXWwP1639Wuz"
      },
      "source": [
        "#gerar os dados\n",
        "ay=[]\n",
        "ax=[]\n",
        "dx=np.random.normal(0, 1, 1000)# gera um vetor onde seus dados forma uma função normal\n",
        "dy=[]\n",
        "print(min(dx),max(dx),sta.stdev(dx),sta.variance(dx))\n",
        "for i in range(1,1001):\n",
        "  ax.append(0.5-random.random())#colocando um valor distribuindo\n",
        "  ay.append(i)\n",
        "  dy.append(i)\n",
        "print(min(ax),max(ax),sta.stdev(ax),sta.variance(ax))\n",
        "plt.plot(ay,ax,'o')\n",
        "plt.show()\n",
        "plt.hist(ax)\n",
        "plt.show()\n",
        "plt.plot(dy,dx,'o')\n",
        "plt.show()\n",
        "plt.hist(dx)\n",
        "plt.show()"
      ],
      "execution_count": null,
      "outputs": []
    },
    {
      "cell_type": "code",
      "metadata": {
        "id": "TltRQDhDr8Mf"
      },
      "source": [
        "I=[[0]*200 for i in range(0,200)]#gerar os dados em uma matriz\n",
        "J=np.random.normal(0,1,size=(200,200))\n",
        "mean = [0, 0]\n",
        "cov = [[1, 0], [0, 100]]\n",
        "x,y=np.random.multivariate_normal(mean,cov,5000).T\n",
        "\n",
        "for i in range(0,200):\n",
        "  for j in range(0,200):\n",
        "    I[i][j]=0.5-random.random()\n",
        "H=np.cov(I)\n",
        "plt.imshow(I,cmap='gray')\n",
        "plt.colorbar()\n",
        "plt.show()\n",
        "plt.imshow(J,cmap='gray')\n",
        "#plt.plot(x,y,'x')\n",
        "plt.colorbar()\n",
        "plt.show()\n"
      ],
      "execution_count": null,
      "outputs": []
    },
    {
      "cell_type": "code",
      "metadata": {
        "id": "E5rqJOo0EupD"
      },
      "source": [
        "n=500#int(input())\n",
        "dens=[]\n",
        "p1=0.9#float(input())\n",
        "p0=0.9#float(input())\n",
        "def auto(n,p1,p0):#gerar o automato\n",
        "  automa=[0]*n\n",
        "  soma=0\n",
        "  for i in range(0,n):\n",
        "    if automa[i] == 1:\n",
        "      if random.random()>=p0:\n",
        "        automa[i]=0\n",
        "      else:\n",
        "        automa[i]=1\n",
        "    else:\n",
        "      if random.random()>=p1:\n",
        "        automa[i]=1\n",
        "      else:\n",
        "        automa[i]=0\n",
        "  return automa\n",
        "\n",
        "for t in range(0,1000):#fazer as interações\n",
        "  s=0.0\n",
        "  automato=auto(n,p1,p0)\n",
        "  for i in automato:\n",
        "    s+=i\n",
        "  dens.append(float(s)/n)\n",
        "dens2,coor=np.histogram(dens,density='true')\n",
        "plt.hist(dens,bins=40)\n",
        "plt.show()\n",
        "\n"
      ],
      "execution_count": null,
      "outputs": []
    },
    {
      "cell_type": "code",
      "metadata": {
        "id": "zwZ4MJ_bBzh0"
      },
      "source": [
        "def sinal(matriz_auto,n):#função que gera o gráfico\n",
        "#gerando sinal\n",
        "    x=[]\n",
        "    y=[]\n",
        "    for i in range(n):\n",
        "      x.append(i)\n",
        "      y.append(matriz_auto[i])\n",
        "\n",
        "      x.append(i+1)\n",
        "      y.append(matriz_auto[i])\n",
        "    return x,y"
      ],
      "execution_count": null,
      "outputs": []
    },
    {
      "cell_type": "code",
      "metadata": {
        "id": "N7fa1s2OA1bU"
      },
      "source": [
        "\n",
        "matriz_1=[[0.9,0.9],\n",
        "          [0.1,0.1]]#matriz de probabilidade\n",
        "matriz_2=[[0.2,0.2],\n",
        "          [0.8,0.8]]#matriz de probabilidade\n",
        "matriz_3=[[0.5,0.5],\n",
        "          [0.5,0.5]]#matriz de probabilidade\n",
        "n=200\n",
        "a=[0]*n\n",
        "coor_auto=[]\n",
        "matriz=[[0]*n for i in range(n)]\n",
        "\n",
        "auto=automato(matriz_3,a,n)\n",
        "x,y=sinal(auto,n)\n",
        "plt.figure(figsize=(30, 10))\n",
        "plt.plot(x,y)\n",
        "plt.show()\n",
        "auto=automato(matriz_2,a,n)\n",
        "x,y=sinal(auto,n)\n",
        "plt.figure(figsize=(30, 10))\n",
        "plt.plot(x,y)\n",
        "plt.show()\n",
        "auto=automato(matriz_1,a,n)\n",
        "x,y=sinal(auto,n)\n",
        "\n",
        "plt.figure(figsize=(30, 10))\n",
        "plt.plot(x,y)\n",
        "plt.show()\n",
        "\n",
        "for i in range(n):\n",
        "    if auto[i]==1:\n",
        "        coor_auto.append(i)\n",
        "\n",
        "for k in range(n):\n",
        "  for j in coor_auto:#espelhar as linhas\n",
        "    matriz[j][k]=matriz[k][j]=1\n",
        "\n",
        "matriz_1=[[0]*n for i in range(n)]\n",
        "matriz_2=[[0]*n for i in range(n)]\n",
        "\n",
        "for i in range(1,n-1):\n",
        "  for j in range(1,n-1):\n",
        "    if matriz[j][i]+matriz[j][i+1]+matriz[j][i-1]+matriz[j+1][i]+matriz[j-1][i]==5:\n",
        "      matriz_1[j][i]=1\n",
        "\n",
        "for i in range(n):\n",
        "  for j in range(n):\n",
        "    if matriz_1[i][j]==1:\n",
        "      for k in range(0,100):#particionando um circulo em 100 pontos\n",
        "        #print(i+int(15*math.sin((2*math.pi*k)/100)),k+int(15*math.cos((2*math.pi*k)/100)))\n",
        "        if 0<=(i+int(15*math.sin((2*math.pi*k)/100))) and (i+int(15*math.sin((2*math.pi*k)/100)))<n and 0<=(j+int(15*math.cos((2*math.pi*k)/100))) and (j+int(15*math.cos((2*math.pi*k)/100)))<n:\n",
        "          matriz_2[int(i+15*math.sin((2*math.pi*k)/100))][int(j+15*math.cos((2*math.pi*k)/100))]=1\n",
        "\n",
        "plt.imshow(matriz_2,cmap='gray')\n",
        "plt.colorbar()\n",
        "plt.show()\n",
        "plt.imshow(matriz_1,cmap='gray')\n",
        "plt.colorbar()\n",
        "plt.show()\n",
        "plt.imshow(matriz,cmap='gray')\n",
        "plt.colorbar()\n",
        "plt.show()"
      ],
      "execution_count": null,
      "outputs": []
    },
    {
      "cell_type": "code",
      "metadata": {
        "id": "wD9YZK7QWwzX"
      },
      "source": [
        "matriz=[[0.9,0.882, 0 , 0    ,0   , 0.01],#0\n",
        "        [0.1,0.098, 0 , 0    , 0  , 0],#1\n",
        "        [0  , 0.02,0.2, 0.194, 0  , 0],#2\n",
        "        [0  , 0   ,0.8, 0.776, 0  , 0],#3\n",
        "        [0  , 0   , 0 , 0.03 , 0.5, 0.495],#4\n",
        "        [0  , 0   , 0 , 0    , 0.5, 0.495]]#5\n",
        "random.seed(1137131)\n",
        "#matriz=[[0.9,0.9],[0.1,0.1]]#1\n",
        "n=1000\n",
        "auto=[0]*n\n",
        "x,y=sinal(automato(matriz,auto,n),n)\n",
        "\n",
        "plt.figure(figsize=(30, 10))\n",
        "plt.plot(x,y)\n",
        "plt.show()"
      ],
      "execution_count": null,
      "outputs": []
    },
    {
      "cell_type": "code",
      "metadata": {
        "id": "qgX3LtFXBzh3"
      },
      "source": [
        "def freq_auto_tam(matriz_prob,n,auto,a):\n",
        "    freq=[0]*a\n",
        "    for i in range(a):\n",
        "        random.seed(i)\n",
        "        automa=automato(matriz_prob,auto,n)\n",
        "        freq[i]=sta.mean(automa)\n",
        "    return freq"
      ],
      "execution_count": null,
      "outputs": []
    },
    {
      "cell_type": "code",
      "metadata": {
        "id": "Ol4aAeSgBzh3"
      },
      "source": [
        "def automato(matriz_prob,auto,n):#função que gera o automato\n",
        "    k=0\n",
        "    prob_sum=matriz_prob[k][auto[0]]#somando a primeira prababilidade\n",
        "    rand=random.random()\n",
        "    #if rand>prob_sum:\n",
        "    while rand>=prob_sum:\n",
        "        k+=1 #ficar verificando até o numero randômico ser menor que a soma das probabilidades.\n",
        "        prob_sum+=matriz_prob[k][auto[0]]#soma das probabilidades\n",
        "    auto[0]=k\n",
        "    #for t in range(n):\n",
        "    for j in range(1,n):\n",
        "          k=0\n",
        "          prob_sum=matriz_prob[k][auto[j-1]]#somando a primeira prababilidade\n",
        "          rand=random.random()\n",
        "          #if rand>prob_sum:\n",
        "          while rand>=prob_sum:\n",
        "              k+=1 #ficar verificando até o numero randômico ser menor que a soma das probabilidades.\n",
        "              prob_sum+=matriz_prob[k][auto[j-1]]#soma das probabilidades\n",
        "          auto[j]=k\n",
        "    return auto"
      ],
      "execution_count": null,
      "outputs": []
    },
    {
      "cell_type": "code",
      "metadata": {
        "id": "sYf2YzTcBzh4"
      },
      "source": [
        "sinal_1=[]\n",
        "sinal_2=[]\n",
        "sinal_3=[]\n",
        "matriz_1=[[0.9,0.9],\n",
        "          [0.1,0.1]]#matriz de probabilidade\n",
        "matriz_2=[[0.2,0.2],\n",
        "          [0.8,0.8]]#matriz de probabilidade\n",
        "matriz_3=[[0.5,0.5],\n",
        "          [0.5,0.5]]#matriz de probabilidade\n",
        "\n",
        "ns=np.arange(500,2500,250)\n",
        "a=1000\n",
        "\n",
        "for n in ns:\n",
        "    auto=[0]*n\n",
        "    sinal_1.append(freq_auto_tam(matriz_1,n,auto,a))\n",
        "    sinal_2.append(freq_auto_tam(matriz_2,n,auto,a))\n",
        "    sinal_3.append(freq_auto_tam(matriz_3,n,auto,a))\n",
        "\n",
        "x=np.arange(0,1,0.001)\n",
        "for i in sinal_1:\n",
        "    kde=stats.gaussian_kde(i)\n",
        "    plt.plot(x,kde(x),'g')\n",
        "\n",
        "for i in sinal_2:\n",
        "    kde=stats.gaussian_kde(i)\n",
        "    plt.plot(x,kde(x),'b')\n",
        "\n",
        "for i in sinal_3:\n",
        "    kde=stats.gaussian_kde(i)\n",
        "    plt.plot(x,kde(x),'r')\n",
        "\n",
        "plt.show()\n"
      ],
      "execution_count": null,
      "outputs": []
    },
    {
      "cell_type": "markdown",
      "metadata": {
        "id": "ilT6amSbBzh5"
      },
      "source": [
        "Projeto 2"
      ]
    },
    {
      "cell_type": "code",
      "metadata": {
        "id": "f1cMMkHCBzh5"
      },
      "source": [
        "def matriz_conf(x1,y1):#damos um valor aleatório que seja próximo aos grupos\n",
        "    matriz=np.array([[0,0,0],[0,0,0],[0,0,0]])#1 representa\n",
        "    n=int(len(x1)/6)\n",
        "    for k in range(3):# esse for é para dividir cada categoria.\n",
        "        for i in range(n):\n",
        "            d1=0\n",
        "            d2=0\n",
        "            d3=0\n",
        "            for j in range(n):\n",
        "                d1+=math.sqrt((x1[i+k*50+25]-x1[j])**2+(y1[i+k*25]-y1[j])**2)#distância das categorias 1, 2 e 3\n",
        "                d2+=math.sqrt((x1[i+k*50+25]-x1[j+50])**2+(y1[i+k*25]-y1[j+50])**2)\n",
        "                d3+=math.sqrt((x1[i+k*50+25]-x1[j+100])**2+(y1[i+k*25]-y1[j+100])**2)\n",
        "            if d1<d2 and d1<d3:\n",
        "                matriz[k-1][0]+=1\n",
        "            elif d2<d1 and d2<d3:\n",
        "                matriz[k-1][1]+=1\n",
        "            elif d3<d1 and d3<d2:\n",
        "                matriz[k-1][2]+=1\n",
        "    return matriz"
      ],
      "execution_count": null,
      "outputs": []
    },
    {
      "cell_type": "code",
      "metadata": {
        "id": "CA3M51cVBzh5"
      },
      "source": [
        "def xy(i,j):\n",
        "    X1,Y1 = [], []\n",
        "    X2,Y2 = [], []\n",
        "    X3,Y3 = [], []\n",
        "    for line in open('Projeto/Projeto 2/iris.data', \"r\"):#coletando os dados no .txt\n",
        "        values = [s for s in line.split(',')]#colocando a informação em um vetor\n",
        "        if values[4]=='Iris-setosa\\n':#categoria 1\n",
        "            X1.append(float(values[i]))\n",
        "            Y1.append(float(values[j]))#colocando o valor.\n",
        "        elif values[4]=='Iris-versicolor\\n':#categoria 2\n",
        "            X2.append(float(values[i]))\n",
        "            Y2.append(float(values[j]))#colocando o valor.\n",
        "        elif values[4]=='Iris-virginica\\n':#categoria 3\n",
        "            X3.append(float(values[i]))\n",
        "            Y3.append(float(values[j]))#colocando o valor.\n",
        "    X=X1+X2+X3\n",
        "    Y=Y1+Y2+Y3\n",
        "    return X,Y"
      ],
      "execution_count": null,
      "outputs": []
    },
    {
      "cell_type": "code",
      "metadata": {
        "id": "dKzTopcqBzh6"
      },
      "source": [
        "def k_means(x1,y1,x2,y2,k):#damos um valor aleatório que seja próximo aos grupos\n",
        "    matriz=np.array([[0,0,0],[0,0,0],[0,0,0]])#1 representa\n",
        "    n=int(len(x1))\n",
        "    kmeans,viz=[],[]\n",
        "    xb,yb=x1[:],y1[:]#fazendo um backup para reciclar\n",
        "    for i in range(n-1):\n",
        "            for a in range(k):#quantidade de k vizinhos\n",
        "                var=math.inf\n",
        "                for j in range(n):#verificando cada dado mais perto\n",
        "                    d=math.sqrt((x2[i]-x1[j])*(x2[i]-x1[j])+(y2[i]-y1[j])*(y2[i]-y1[j]))#distância\n",
        "                    if d<var:\n",
        "                        var=d\n",
        "                        coor=j\n",
        "                viz.append(int(coor/25))#se j/25 j<25=0, 25<j<50=1, j<75=2, assim teremos para cada categoria uma representação\n",
        "                x1[coor]=math.inf#colocando a distancia dessa coordenada longe\n",
        "                y1[coor]=math.inf\n",
        "            kmeans.append(viz)#adicionando os vizinhos\n",
        "            viz=[]#zerando os vizinhos\n",
        "            x1,y1=xb[:],yb[:]#restaurando as coordenadas\n",
        "    for j in range(n-1):\n",
        "        matriz[int(j/25)][sta.mode(kmeans[j])]+=1\n",
        "    return matriz"
      ],
      "execution_count": null,
      "outputs": []
    },
    {
      "cell_type": "code",
      "metadata": {
        "id": "I1tprBflBzh6"
      },
      "source": [
        "def xy_k(i,j):\n",
        "    X1,Y1 = [], []\n",
        "    X2,Y2 = [], []\n",
        "    X3,Y3 = [], []\n",
        "    for line in open('Projeto/Projeto 2/iris.data', \"r\"):#coletando os dados no .txt\n",
        "        values = [s for s in line.split(',')]#colocando a informação em um vetor\n",
        "        if values[4]=='Iris-setosa\\n':#categoria 1\n",
        "            X1.append(float(values[i]))\n",
        "            Y1.append(float(values[j]))#colocando o valor.\n",
        "        elif values[4]=='Iris-versicolor\\n':#categoria 2\n",
        "            X2.append(float(values[i]))\n",
        "            Y2.append(float(values[j]))#colocando o valor.\n",
        "        elif values[4]=='Iris-virginica\\n':#categoria 3\n",
        "            X3.append(float(values[i]))\n",
        "            Y3.append(float(values[j]))#colocando o valor.\n",
        "    Xt=X1[:25]+X2[:25]+X3[:25]\n",
        "    Yt=Y1[:25]+Y2[:25]+Y3[:25]\n",
        "    Xf=X1[25:]+X2[25:]+X3[25:]\n",
        "    Yf=Y1[25:]+Y2[25:]+Y3[25:]\n",
        "    return Xt,Yt,Xf,Yf"
      ],
      "execution_count": null,
      "outputs": []
    },
    {
      "cell_type": "code",
      "metadata": {
        "id": "h99ZOucnBzh6"
      },
      "source": [
        "#algoritmo de k-vizinhos\n",
        "printe=[0]*4\n",
        "fig, axs = plt.subplots(4, 4, figsize=(20,20))\n",
        "for i in range(4):\n",
        "    for j in range(4):\n",
        "        x1,y1,x2,y2=xy_k(i,j)\n",
        "        axs[i,j].set_title('axis['+str(i)+','+str(j)+']')\n",
        "        im=axs[i,j].matshow(k_means(x1,y1,x2,y2,20))\n",
        "plt.show()"
      ],
      "execution_count": null,
      "outputs": []
    },
    {
      "cell_type": "code",
      "metadata": {
        "id": "tfwR-iG0Bzh7"
      },
      "source": [
        "X1,Y1 = [], []\n",
        "X2,Y2 = [], []\n",
        "X3,Y3 = [], []\n",
        "fig, axs = plt.subplots(4, 4, figsize=(20,20))\n",
        "for i in range(4):\n",
        "    for j in range(4):\n",
        "        for line in open('Projeto/Projeto 2/iris.data', \"r\"):#coletando os dados no .txt\n",
        "            values = [s for s in line.split(',')]#colocando a informação em um vetor\n",
        "            if values[4]=='Iris-setosa\\n':#categoria 1\n",
        "                X1.append(float(values[i]))\n",
        "                Y1.append(float(values[j]))#colocando o valor.\n",
        "            elif values[4]=='Iris-versicolor\\n':#categoria 2\n",
        "                X2.append(float(values[i]))\n",
        "                Y2.append(float(values[j]))#colocando o valor.\n",
        "            elif values[4]=='Iris-virginica\\n':#categoria 3\n",
        "                X3.append(float(values[i]))\n",
        "                Y3.append(float(values[j]))#colocando o valor.\n",
        "        #plt.hist(Y)\n",
        "        axs[i,j].set_title('axis['+str(i)+','+str(j)+']')\n",
        "        axs[i,j].plot(X1,Y1,'o',color='b',label='Iris-setosa\\n')\n",
        "        axs[i,j].plot(X2,Y2,'o',color='g',label='Iris-versicolor\\n')\n",
        "        axs[i,j].plot(X3,Y3,'o',color='r',label='Iris-virginica\\n')\n",
        "        X1,Y1 = [], []\n",
        "        X2,Y2 = [], []\n",
        "        X3,Y3 = [], []\n",
        "leg=axs[3,3].legend(loc='lower right')\n",
        "plt.show()\n"
      ],
      "execution_count": null,
      "outputs": []
    },
    {
      "cell_type": "code",
      "metadata": {
        "id": "987dYFObMHAx"
      },
      "source": [
        "matriz=[[0.5,0, 0 , 0.7 ],#0\n",
        "        [0.5,0.1, 0 , 0 ],#1\n",
        "        [0  , 0.9,0.6, 0 ],#2\n",
        "        [0  , 0   ,0.4, 0.3]]#3\n",
        "entropia=0\n",
        "n=250\n",
        "auto=[0]*n\n",
        "sinal0=automato(matriz,auto,n)\n",
        "#integral\n",
        "\n",
        "#derivada\n",
        "\n",
        "    sinal0[i+1]-sinal0[i]\n",
        "\n",
        "#verificar a entropia\n",
        "for i in range(4):\n",
        "  for j in range(4):\n",
        "    if matriz[i][j]>0:\n",
        "      entropia+=(matriz[i][j])*math.log(matriz[i][j],4)\n",
        "print(-entropia)"
      ],
      "execution_count": null,
      "outputs": []
    },
    {
      "cell_type": "markdown",
      "metadata": {
        "id": "M31jrSH7MGwq"
      },
      "source": [
        "Projeto 3"
      ]
    },
    {
      "cell_type": "code",
      "metadata": {
        "id": "FXIxe0myBzh8"
      },
      "source": [
        "matriz1=[[0.5,0.3, 0 , 0 ],#triangulo\n",
        "        [0.5,0.3, 0.3 , 0 ],#1\n",
        "        [0  , 0.4,0.3, 0.9 ],#2\n",
        "        [0  , 0   ,0.4, 0.1]]#3\n",
        "\n",
        "matriz2=[[0.8,0, 0 , 0.05 ],#quadrado\n",
        "        [0.2,0.5, 0 , 0 ],#1\n",
        "        [0  , 0.5,0.3, 0 ],#2\n",
        "        [0  , 0   ,0.7, 0.95]]#3\n",
        "\n",
        "matriz3=[[0.5,0, 0 , 0.7 ],#triangulo 'retangulo'.\n",
        "        [0.5,0.1, 0 , 0 ],#1\n",
        "        [0  , 0.9,0.6, 0 ],#2\n",
        "        [0  , 0   ,0.4, 0.3]]#3\n",
        "matrizes=[matriz1,matriz2,matriz3]\n",
        "n=200\n",
        "dados=[]\n",
        "for matriz in matrizes:\n",
        "\n",
        "    for timer in range(50):\n",
        "        auto=[0]*n#zerando dados\n",
        "        y=automato(matriz,auto,n)\n",
        "        entropia=0\n",
        "        inte=[0]*n\n",
        "        der=[0]*n\n",
        "\n",
        "        media=sta.mean(y)#media 1\n",
        "\n",
        "        variancia=sta.variance(y)#variancia 2\n",
        "\n",
        "        desvio=sta.stdev(y)#desvio padrão 3\n",
        "\n",
        "        inte[0]=y[0]\n",
        "        for j in range(1,n):#integração 2\n",
        "            inte[j]=y[j]+inte[j-1]\n",
        "\n",
        "        for i in range(n-1):#derivação 3\n",
        "            der[i]=y[i+1]-y[i]\n",
        "\n",
        "        for i in range(4):#entropia 4\n",
        "          for j in range(4):\n",
        "            if matriz[i][j]>0:\n",
        "              entropia+=(matriz[i][j])*math.log(matriz[i][j],4)\n",
        "        for i in range(n):#medias da integral e da derivação 5 e 6\n",
        "            med_der=sta.mean(der)\n",
        "            med_int=sta.mean(inte)\n",
        "        s0=[0]*n\n",
        "        s1=[0]*n\n",
        "        s2=[0]*n\n",
        "        s3=[0]*n\n",
        "        for i in range(n):\n",
        "            if y[i]==0:\n",
        "                s0[i]=1\n",
        "            elif y[i]==1:\n",
        "                s1[i]=1\n",
        "            elif y[i]==2:\n",
        "                s2[i]=1\n",
        "            elif y[i]==3:\n",
        "                s3[i]=1\n",
        "        rel_freq=[0]*4\n",
        "\n",
        "        for i in range(n):#relative frequency 7\n",
        "            rel_freq[0]=sta.mean(s0)\n",
        "            rel_freq[1]=sta.mean(s1)\n",
        "            rel_freq[2]=sta.mean(s2)\n",
        "            rel_freq[3]=sta.mean(s3)\n",
        "\n",
        "        dados.append([media,desvio,variancia,med_int,med_der,-entropia,rel_freq[0],rel_freq[1],rel_freq[2],rel_freq[3]])\n",
        "\n",
        "#print(dados)\n",
        "fig, axs = plt.subplots(10, 10, figsize=(20,20))\n",
        "\n",
        "for i in range(10):\n",
        "    for j in range(10):\n",
        "        axs[i,j].set_xlim([0,2.5])\n",
        "        axs[i,j].set_ylim([0,2.5])\n",
        "        axs[i,j].plot(dados[:50][i],dados[:50][j],'o',color='b',label='triangulo')\n",
        "        axs[i,j].plot(dados[50:100][i],dados[50:100][j],'o',color='g',label='Quadrado')\n",
        "        axs[i,j].plot(dados[100:150][i],dados[100:150][j],'o',color='r',label='Triangulo Retangulo')\n",
        "\n",
        "#plt.plot(x,y)\n",
        "plt.show()"
      ],
      "execution_count": null,
      "outputs": []
    },
    {
      "cell_type": "code",
      "metadata": {
        "id": "EVC6Qn3_Bzh9"
      },
      "source": [],
      "execution_count": null,
      "outputs": []
    }
  ]
}